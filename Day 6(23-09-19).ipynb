{
 "cells": [
  {
   "cell_type": "code",
   "execution_count": 1,
   "metadata": {},
   "outputs": [
    {
     "name": "stdout",
     "output_type": "stream",
     "text": [
      "abdul anil raja rani abdul\n"
     ]
    },
    {
     "data": {
      "text/plain": [
       "'abdul anil raja rani abdul'"
      ]
     },
     "execution_count": 1,
     "metadata": {},
     "output_type": "execute_result"
    }
   ],
   "source": [
    "# print frquency of word\n",
    "names=input()\n",
    "names.split()\n"
   ]
  },
  {
   "cell_type": "code",
   "execution_count": 4,
   "metadata": {},
   "outputs": [
    {
     "name": "stdout",
     "output_type": "stream",
     "text": [
      "Enter keys or values range:2\n",
      "Enter key:roolno\n",
      "Enter a value:456\n",
      "Enter key:branch\n",
      "Enter a value:it\n"
     ]
    },
    {
     "data": {
      "text/plain": [
       "{'roolno': '456', 'branch': 'it'}"
      ]
     },
     "execution_count": 4,
     "metadata": {},
     "output_type": "execute_result"
    }
   ],
   "source": [
    "keys=list()\n",
    "values=[]\n",
    "d={}\n",
    "n=int(input(\"Enter keys or values range:\"))\n",
    "for i in range(n):\n",
    "    key=input(\"Enter key:\")\n",
    "    keys.append(key)\n",
    "    value=input(\"Enter a value:\")\n",
    "    values.append(value)\n",
    "for i in range(len(keys)):\n",
    "    d[keys[i]]=values[i]\n",
    "d"
   ]
  },
  {
   "cell_type": "code",
   "execution_count": 7,
   "metadata": {},
   "outputs": [
    {
     "data": {
      "text/plain": [
       "{'names': ['abdulla', 'sunil', 'siva', 'mahesh'],\n",
       " 'rollno': [501, 502, 503, 504]}"
      ]
     },
     "execution_count": 7,
     "metadata": {},
     "output_type": "execute_result"
    }
   ],
   "source": [
    "studinfo={'names':['abdulla','sunil','siva','mahesh'],'rollno':[501,502,503,504]}\n",
    "studinfo"
   ]
  },
  {
   "cell_type": "code",
   "execution_count": 10,
   "metadata": {},
   "outputs": [
    {
     "data": {
      "text/plain": [
       "['sunil', 'siva', 'mahesh']"
      ]
     },
     "execution_count": 10,
     "metadata": {},
     "output_type": "execute_result"
    }
   ],
   "source": [
    "studinfo['names'][1:]"
   ]
  },
  {
   "cell_type": "code",
   "execution_count": null,
   "metadata": {},
   "outputs": [],
   "source": []
  }
 ],
 "metadata": {
  "kernelspec": {
   "display_name": "Python 3",
   "language": "python",
   "name": "python3"
  },
  "language_info": {
   "codemirror_mode": {
    "name": "ipython",
    "version": 3
   },
   "file_extension": ".py",
   "mimetype": "text/x-python",
   "name": "python",
   "nbconvert_exporter": "python",
   "pygments_lexer": "ipython3",
   "version": "3.7.3"
  }
 },
 "nbformat": 4,
 "nbformat_minor": 2
}

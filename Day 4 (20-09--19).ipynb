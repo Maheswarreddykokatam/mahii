{
 "cells": [
  {
   "cell_type": "markdown",
   "metadata": {},
   "source": [
    "## Day Objectives\n",
    "### Functions\n",
    "-user Defined Functions\n",
    "    -user can build his own logic"
   ]
  },
  {
   "cell_type": "code",
   "execution_count": 1,
   "metadata": {},
   "outputs": [
    {
     "name": "stdout",
     "output_type": "stream",
     "text": [
      "hello\n",
      "Hi\n",
      "over\n"
     ]
    }
   ],
   "source": [
    "def fun_name():\n",
    "    print(\"hello\")\n",
    "    print(\"Hi\")\n",
    "fun_name()\n",
    "print(\"over\")"
   ]
  },
  {
   "cell_type": "code",
   "execution_count": 2,
   "metadata": {},
   "outputs": [
    {
     "name": "stdout",
     "output_type": "stream",
     "text": [
      " I am without passing arguments and without return\n"
     ]
    }
   ],
   "source": [
    "# without passing arguments and without return\n",
    "def show():\n",
    "    print(\" I am without passing arguments and without return\")\n",
    "show()\n",
    "    "
   ]
  },
  {
   "cell_type": "code",
   "execution_count": 6,
   "metadata": {},
   "outputs": [
    {
     "name": "stdout",
     "output_type": "stream",
     "text": [
      " I am pasing arguments and return result\n"
     ]
    }
   ],
   "source": [
    "# without passing arguments and return result\n",
    "def display():\n",
    "    return \" I am pasing arguments and return result\"\n",
    "#rint(display())#\n",
    "rs=display()\n",
    "print(rs)"
   ]
  },
  {
   "cell_type": "code",
   "execution_count": 7,
   "metadata": {},
   "outputs": [
    {
     "name": "stdout",
     "output_type": "stream",
     "text": [
      "addition of num1 and num2 is 11\n"
     ]
    }
   ],
   "source": [
    "# passing arguments and without return result\n",
    "def add(num1,num2):\n",
    "    print(\"addition of num1 and num2 is\",num1+num2)\n",
    "add(5,6)"
   ]
  },
  {
   "cell_type": "code",
   "execution_count": 12,
   "metadata": {},
   "outputs": [
    {
     "name": "stdout",
     "output_type": "stream",
     "text": [
      "30\n"
     ]
    }
   ],
   "source": [
    "# passing arguments and return result\n",
    "def mul(n1,n2):\n",
    "    return n1*n2\n",
    "#print(\"mul of numbers is:\",mul(4,5))\n",
    "rs=mul(5,6)\n",
    "print(rs)\n"
   ]
  },
  {
   "cell_type": "code",
   "execution_count": 19,
   "metadata": {},
   "outputs": [
    {
     "name": "stdout",
     "output_type": "stream",
     "text": [
      "Enter number5\n",
      "Enter number5\n",
      "('addition of two numbers is:', 10)\n",
      "('subtraction of two number is:', 0)\n",
      "('multiplication of two number is:', 25)\n",
      "('division of two number is:', 1.0)\n",
      "('modulus of two number is:', 0)\n"
     ]
    }
   ],
   "source": [
    "num1=int(input(\"Enter number\"))\n",
    "num2=int(input(\"Enter number\"))\n",
    "def add(num1,num2):\n",
    "    return \"addition of two numbers is:\",num1+num2\n",
    "rs=add(num1,num2)\n",
    "print(rs)\n",
    "def sub(num1,num2):\n",
    "    return \"subtraction of two number is:\",num1-num2\n",
    "rs=sub(num1,num2)\n",
    "print(rs)\n",
    "def mul(num1,num2):\n",
    "    return \"multiplication of two number is:\",num1*num2\n",
    "rs=mul(num1,num2)\n",
    "print(rs)\n",
    "def div(num1,num2):\n",
    "    return \"division of two number is:\",num1/num2\n",
    "rs=div(num1,num2)\n",
    "print(rs)\n",
    "def mod(num1,num2):\n",
    "    return \"modulus of two number is:\",num1%num2\n",
    "rs=mod(num1,num2)\n",
    "print(rs)\n"
   ]
  },
  {
   "cell_type": "markdown",
   "metadata": {},
   "source": [
    "# In python we can use 4 more ways\n",
    "- default arguments\n",
    "- required arguments\n",
    "- keyword arguments\n",
    "- variable length arguments\n"
   ]
  },
  {
   "cell_type": "code",
   "execution_count": 22,
   "metadata": {},
   "outputs": [
    {
     "name": "stdout",
     "output_type": "stream",
     "text": [
      "hello hi###APSSDC MSTP\n"
     ]
    }
   ],
   "source": [
    "# example for default arguments(print())\n",
    "print(\"hello\",end=\" \")\n",
    "print(\"hi\",end=\"###\")\n",
    "print(\"APSSDC MSTP\")"
   ]
  },
  {
   "cell_type": "code",
   "execution_count": 25,
   "metadata": {},
   "outputs": [
    {
     "name": "stdout",
     "output_type": "stream",
     "text": [
      "5 10 6 14\n"
     ]
    }
   ],
   "source": [
    "def add(n1=0,n2=0,n3=0,n4=0):\n",
    "    return n1+n2+n3+n4\n",
    "print(add(5),add(5,5),add(1,2,3),add(5,4,3,2))\n"
   ]
  },
  {
   "cell_type": "code",
   "execution_count": 27,
   "metadata": {},
   "outputs": [
    {
     "ename": "TypeError",
     "evalue": "mul() missing 1 required positional argument: 'b'",
     "output_type": "error",
     "traceback": [
      "\u001b[1;31m---------------------------------------------------------------------------\u001b[0m",
      "\u001b[1;31mTypeError\u001b[0m                                 Traceback (most recent call last)",
      "\u001b[1;32m<ipython-input-27-cdbb83a61a4e>\u001b[0m in \u001b[0;36m<module>\u001b[1;34m\u001b[0m\n\u001b[0;32m      2\u001b[0m \u001b[1;32mdef\u001b[0m \u001b[0mmul\u001b[0m\u001b[1;33m(\u001b[0m\u001b[0ma\u001b[0m\u001b[1;33m,\u001b[0m\u001b[0mb\u001b[0m\u001b[1;33m)\u001b[0m\u001b[1;33m:\u001b[0m\u001b[1;33m\u001b[0m\u001b[1;33m\u001b[0m\u001b[0m\n\u001b[0;32m      3\u001b[0m     \u001b[1;32mreturn\u001b[0m \u001b[0ma\u001b[0m\u001b[1;33m*\u001b[0m\u001b[0mb\u001b[0m\u001b[1;33m\u001b[0m\u001b[1;33m\u001b[0m\u001b[0m\n\u001b[1;32m----> 4\u001b[1;33m \u001b[0mprint\u001b[0m\u001b[1;33m(\u001b[0m\u001b[0mmul\u001b[0m\u001b[1;33m(\u001b[0m\u001b[1;36m5\u001b[0m\u001b[1;33m)\u001b[0m\u001b[1;33m)\u001b[0m\u001b[1;33m\u001b[0m\u001b[1;33m\u001b[0m\u001b[0m\n\u001b[0m",
      "\u001b[1;31mTypeError\u001b[0m: mul() missing 1 required positional argument: 'b'"
     ]
    }
   ],
   "source": [
    "# example for required arguments(range())\n",
    "def mul(a,b):\n",
    "    return a*b\n",
    "print(mul(5))\n"
   ]
  },
  {
   "cell_type": "code",
   "execution_count": 29,
   "metadata": {},
   "outputs": [
    {
     "name": "stdout",
     "output_type": "stream",
     "text": [
      "1\n"
     ]
    }
   ],
   "source": [
    "# example for keyword arguments(end=\",\")\n",
    "def power(base,exp):\n",
    "    return base**exp\n",
    "print(power(exp=0,base=2))\n"
   ]
  },
  {
   "cell_type": "code",
   "execution_count": 31,
   "metadata": {},
   "outputs": [
    {
     "name": "stdout",
     "output_type": "stream",
     "text": [
      "9 <class 'tuple'>\n",
      "sum of vals is: 71\n"
     ]
    }
   ],
   "source": [
    "# example for length arguments\n",
    "def sm(*vals):\n",
    "    print(len(vals),type(vals))\n",
    "    print(\"sum of vals is:\",sum(vals))\n",
    "sm(1,2,3,45,6,3,2,4,5)"
   ]
  },
  {
   "cell_type": "markdown",
   "metadata": {},
   "source": [
    "# conditional control statements:\n",
    "-it controls flow of programs execution based on condition\n",
    "-3 types\n",
    "    -conditional statements\n",
    "    -iterative statements\n",
    "    -jumping statements"
   ]
  },
  {
   "cell_type": "markdown",
   "metadata": {},
   "source": [
    "# conditional statements are\n",
    "-if\n",
    "-if else\n",
    "-if else lader\n",
    "-nested if else"
   ]
  },
  {
   "cell_type": "code",
   "execution_count": 32,
   "metadata": {},
   "outputs": [
    {
     "name": "stdout",
     "output_type": "stream",
     "text": [
      "4 is smaller than 5\n"
     ]
    }
   ],
   "source": [
    "if(4<5):\n",
    "    print(\"4 is smaller than 5\")"
   ]
  },
  {
   "cell_type": "code",
   "execution_count": 35,
   "metadata": {},
   "outputs": [
    {
     "name": "stdout",
     "output_type": "stream",
     "text": [
      "ur in elif block\n",
      "ur smaller\n"
     ]
    }
   ],
   "source": [
    "if(5<4):\n",
    "    print(\"ur in if block\")\n",
    "    print(\"ur bigger\")\n",
    "elif(6<7):\n",
    "    print(\"ur in elif block\")\n",
    "    print(\"ur smaller\")\n",
    "else:\n",
    "    print(\"ur in  else block\")"
   ]
  },
  {
   "cell_type": "code",
   "execution_count": null,
   "metadata": {},
   "outputs": [],
   "source": []
  }
 ],
 "metadata": {
  "kernelspec": {
   "display_name": "Python 3",
   "language": "python",
   "name": "python3"
  },
  "language_info": {
   "codemirror_mode": {
    "name": "ipython",
    "version": 3
   },
   "file_extension": ".py",
   "mimetype": "text/x-python",
   "name": "python",
   "nbconvert_exporter": "python",
   "pygments_lexer": "ipython3",
   "version": "3.7.3"
  }
 },
 "nbformat": 4,
 "nbformat_minor": 2
}

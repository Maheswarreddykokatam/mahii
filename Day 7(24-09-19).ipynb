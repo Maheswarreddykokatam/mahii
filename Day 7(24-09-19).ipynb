{
 "cells": [
  {
   "cell_type": "markdown",
   "metadata": {},
   "source": [
    "## Day Objectives\n",
    "- packages and modules\n",
    "    - package is the floder in that we can store python files\n",
    "- Module:\n",
    "    - module is a collection of functions or classes\n",
    "    - Module types:\n",
    "        - default modules (os,re,sqlite etc)\n",
    "        - user defined modules: user create his modules\n",
    "    "
   ]
  },
  {
   "cell_type": "code",
   "execution_count": 1,
   "metadata": {},
   "outputs": [
    {
     "name": "stdout",
     "output_type": "stream",
     "text": [
      "6\n",
      "True\n"
     ]
    }
   ],
   "source": [
    "n= int(input())\n",
    "def isEven(n1):\n",
    "    if n1%2==0:\n",
    "        return True\n",
    "    return False\n",
    "print(isEven(n))"
   ]
  },
  {
   "cell_type": "code",
   "execution_count": 1,
   "metadata": {},
   "outputs": [
    {
     "data": {
      "text/plain": [
       "['__builtins__',\n",
       " '__cached__',\n",
       " '__doc__',\n",
       " '__file__',\n",
       " '__loader__',\n",
       " '__name__',\n",
       " '__package__',\n",
       " '__spec__',\n",
       " 'isEven',\n",
       " 'isOdd']"
      ]
     },
     "execution_count": 1,
     "metadata": {},
     "output_type": "execute_result"
    }
   ],
   "source": [
    "import myMath\n",
    "#n= int(input())\n",
    "dir(myMath)"
   ]
  },
  {
   "cell_type": "code",
   "execution_count": 7,
   "metadata": {},
   "outputs": [
    {
     "name": "stdout",
     "output_type": "stream",
     "text": [
      "16\n",
      "False\n",
      "True\n"
     ]
    }
   ],
   "source": [
    "from myMath import isprime,isEven\n",
    "n=int(input())\n",
    "print(isprime(n))\n",
    "print(isEven(n))"
   ]
  },
  {
   "cell_type": "code",
   "execution_count": 2,
   "metadata": {},
   "outputs": [
    {
     "name": "stdout",
     "output_type": "stream",
     "text": [
      "64\n"
     ]
    }
   ],
   "source": [
    "from myModule import myMath1 as mM\n",
    "dir(mM)\n",
    "print(mM.power(4,3))"
   ]
  },
  {
   "cell_type": "code",
   "execution_count": 1,
   "metadata": {},
   "outputs": [
    {
     "name": "stdout",
     "output_type": "stream",
     "text": [
      "Enter radious value:7\n",
      "153.86\n"
     ]
    }
   ],
   "source": [
    "from myModule import myMath1 as mm\n",
    "r=int(input(\"Enter radious value:\"))\n",
    "print(mm.areaOfCircle(r))"
   ]
  },
  {
   "cell_type": "code",
   "execution_count": null,
   "metadata": {},
   "outputs": [],
   "source": []
  }
 ],
 "metadata": {
  "kernelspec": {
   "display_name": "Python 3",
   "language": "python",
   "name": "python3"
  },
  "language_info": {
   "codemirror_mode": {
    "name": "ipython",
    "version": 3
   },
   "file_extension": ".py",
   "mimetype": "text/x-python",
   "name": "python",
   "nbconvert_exporter": "python",
   "pygments_lexer": "ipython3",
   "version": "3.7.3"
  }
 },
 "nbformat": 4,
 "nbformat_minor": 2
}
